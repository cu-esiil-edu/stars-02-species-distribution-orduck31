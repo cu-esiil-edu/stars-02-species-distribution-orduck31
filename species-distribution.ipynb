{
  "cells": [
    {
      "cell_type": "markdown",
      "metadata": {},
      "source": [
        "# Mapping Tasiyagnunpa (Western Meadowlark) migration\n",
        "\n",
        "Introduction to vector data operations\n",
        "\n",
        "Tasiyagnunpa (or Western Meadowlark, or sturnella neglecta) migrates\n",
        "each year to next on the Great Plains in the United States. Using\n",
        "crowd-sourced observations of these birds, we can see that migration\n",
        "happening throughout the year.\n",
        "\n",
        "> Read more about the Lakota connection to Tasiyagnunpa from [Native Sun\n",
        "> News\n",
        "> Today](https://www.nativesunnews.today/articles/meadowlarks-still-speak-lakota-humans-dont-anymore/)\n",
        "\n",
        "## Import Python libraries\n",
        "\n",
        "We will be getting data from a source called [GBIF (Global Biodiversity\n",
        "Information Facility)](https://www.gbif.org/). We need a package called\n",
        "`pygbif` to access the data, which is not included in your environment.\n",
        "Install it by running the cell below:"
      ],
      "id": "17bf4143-4cfc-4120-937b-b04b5f43e5b6"
    },
    {
      "cell_type": "code",
      "execution_count": 1,
      "metadata": {},
      "outputs": [],
      "source": [
        "!pip install pygbif"
      ],
      "id": "0c2527c5"
    },
    {
      "cell_type": "markdown",
      "metadata": {},
      "source": [
        "> **<i class=\"fa fa-solid fa-keyboard fa-large\" aria-label=\"keyboard\"></i>\n",
        "> Your Task: Import packages**\n",
        ">\n",
        "> Add imports for packages that will help you:\n",
        ">\n",
        "> 1.  Work with tabular data\n",
        "> 2.  Work with geospatial vector data\n",
        "> 3.  Make an interactive plot of tabular and/or vector data"
      ],
      "id": "aadbe470-c9e9-4147-beb7-624be622e99d"
    },
    {
      "cell_type": "code",
      "execution_count": 2,
      "metadata": {},
      "outputs": [],
      "source": [
        "import os\n",
        "import pathlib\n",
        "import requests\n",
        "import time\n",
        "import zipfile\n",
        "from getpass import getpass\n",
        "\n",
        "import cartopy.crs as ccrs\n",
        "import panel as pn\n",
        "import pygbif.occurrences as occ"
      ],
      "id": "75ffeb21"
    },
    {
      "cell_type": "markdown",
      "metadata": {},
      "source": [
        "## Create a folder for your data\n",
        "\n",
        "For this challenge, you will need to save some data to your computer. We\n",
        "suggest saving to somewhere in your *home* folder\n",
        "(e.g. `/home/username`), rather than to your GitHub repository, since\n",
        "data files can easily become too large for GitHub.\n",
        "\n",
        "> **Warning**\n",
        ">\n",
        "> The **home** directory is different for every user! Your home\n",
        "> directory probably won’t exist on someone else’s computer. Make sure\n",
        "> to use code like `pathlib.Path.home()` to compute the home directory\n",
        "> on the computer the code is running on. This is key to writing\n",
        "> reproducible and interoperable code.\n",
        "\n",
        "> **<i class=\"fa fa-solid fa-keyboard fa-large\" aria-label=\"keyboard\"></i>\n",
        "> Your Task: Create a project folder**\n",
        ">\n",
        "> The code below will help you get started with making a project\n",
        "> directory\n",
        ">\n",
        "> 1.  Replace `'your-project-directory-name-here'` and\n",
        ">     `'your-gbif-data-directory-name-here'` with **descriptive** names\n",
        "> 2.  Run the cell\n",
        "> 3.  (OPTIONAL) Check in the terminal that you created the directory\n",
        ">     using the command `ls ~/earth-analytics/data`"
      ],
      "id": "5731ca91-9b19-4f83-89ba-5fa6c9087a5c"
    },
    {
      "cell_type": "code",
      "execution_count": 4,
      "metadata": {},
      "outputs": [],
      "source": [
        "# Create data directory in the home folder\n",
        "data_dir = os.path.join(\n",
        "    # Home directory\n",
        "    pathlib.Path.home(),\n",
        "    # Earth analytics data directory\n",
        "    'earth-analytics',\n",
        "    'data',\n",
        "    # Project directory\n",
        "    'your-project-directory-name-here',\n",
        ")\n",
        "os.makedirs(data_dir, exist_ok=True)\n",
        "\n",
        "# Define the directory name for GBIF data\n",
        "gbif_dir = os.path.join(data_dir, 'your-gbif-data-directory-name-here')"
      ],
      "id": "34b962c2"
    },
    {
      "cell_type": "markdown",
      "metadata": {},
      "source": [
        "## Define your study area\n",
        "\n",
        "Track observations of Taciyagnunpa across the different **ecoregions**\n",
        "of North America! You should be able to see changes in the number of\n",
        "observations in each ecoregion throughout the year.\n",
        "\n",
        "### Download and save ecoregion boundaries\n",
        "\n",
        "> **<i class=\"fa fa-solid fa-keyboard fa-large\" aria-label=\"keyboard\"></i>\n",
        "> Your Task**\n",
        ">\n",
        "> 1.  Find the URL for for the level III ecoregion boundaries. You can\n",
        ">     [get ecoregion boundaries from the Environmental Protection Agency\n",
        ">     (EPA).](https://www.epa.gov/eco-research/ecoregions-north-america).\n",
        "> 2.  Replace `your/url/here` with the URL you found, making sure to\n",
        ">     format it so it is easily readable.\n",
        "> 3.  Change all the variable names to **descriptive** variable names\n",
        "> 4.  Run the cell to download and save the data."
      ],
      "id": "8a727d66-edba-4488-99c6-d90a23a144ed"
    },
    {
      "cell_type": "code",
      "execution_count": 6,
      "metadata": {},
      "outputs": [],
      "source": [
        "# Set up the ecoregions level III boundary URL\n",
        "a_url = (\"your/url/here\")\n",
        "# Set up a path to save the dataon your machine\n",
        "a_path = os.path.join(data_dir, 'filename.zip')\n",
        "\n",
        "# Don't download twice\n",
        "if not os.path.exists(a_path):\n",
        "    # Download, and don't check the certificate for the EPA\n",
        "    a_response = requests.get(a_url, verify=False)\n",
        "    # Save the binary data to a file\n",
        "    with open(a_path, 'wb') as a_file:\n",
        "        a_file.write(a_response.content)"
      ],
      "id": "7f983c6d"
    },
    {
      "cell_type": "markdown",
      "metadata": {},
      "source": [
        "### Load the ecoregions into Python\n",
        "\n",
        "> **<i class=\"fa fa-solid fa-keyboard fa-large\" aria-label=\"keyboard\"></i>\n",
        "> Your task**\n",
        ">\n",
        "> Download and save ecoregion boundaries from the EPA:\n",
        ">\n",
        "> 1.  Replace `a_path` with the path your created for your ecoregions\n",
        ">     file.\n",
        "> 2.  (optional) Consider renaming and selecting columns to make your\n",
        ">     `GeoDataFrame` easier to work with.\n",
        "> 3.  Make a quick plot with `.plot()` to make sure the download worked.\n",
        "> 4.  Run the cell to load the data into Python"
      ],
      "id": "b425e551-fa7a-4140-8ee9-07732cb0c15a"
    },
    {
      "cell_type": "code",
      "execution_count": 8,
      "metadata": {},
      "outputs": [],
      "source": [
        "# Open up the ecoregions boundaries\n",
        "gdf = gpd.read_file(a_path)\n",
        "\n",
        "# Name the index so it will match the other data later on\n",
        "gdf.index.name = 'ecoregion'\n",
        "\n",
        "# Plot the ecoregions to check download"
      ],
      "id": "bd33ac28"
    },
    {
      "cell_type": "markdown",
      "metadata": {},
      "source": [
        "### Create a simplified `GeoDataFrame` for plotting\n",
        "\n",
        "Plotting larger files can be time consuming. The code below will\n",
        "streamline plotting with `hvplot` by simplifying the geometry,\n",
        "projecting it to a Mercator projection that is compatible with\n",
        "`geoviews`, and cropping off areas in the Arctic.\n",
        "\n",
        "> **<i class=\"fa fa-solid fa-keyboard fa-large\" aria-label=\"keyboard\"></i>\n",
        "> Your task**\n",
        ">\n",
        "> Download and save ecoregion boundaries from the EPA:\n",
        ">\n",
        "> 1.  Make a copy of your ecoregions `GeoDataFrame` with the `.copy()`\n",
        ">     method, and save it to another variable name. Make sure to do\n",
        ">     everything else in this cell with your new copy!\n",
        "> 2.  Simplify the ecoregions with `.simplify(1000)`, and save it back\n",
        ">     to the `geometry` column.\n",
        "> 3.  Change the Coordinate Reference System (CRS) to Mercator with\n",
        ">     `.to_crs(ccrs.Mercator())`\n",
        "> 4.  Use the plotting code in the cell to check that the plotting runs\n",
        ">     quickly and looks the way you want, making sure to change `gdf` to\n",
        ">     YOUR `GeoDataFrame` name."
      ],
      "id": "d96a0a24-2c91-4ada-b94d-9f15ed48f0f9"
    },
    {
      "cell_type": "code",
      "execution_count": 10,
      "metadata": {},
      "outputs": [],
      "source": [
        "# Make a copy of the ecoregions\n",
        "\n",
        "# Simplify the geometry to speed up processing\n",
        "\n",
        "# Change the CRS to Mercator for mapping\n",
        "\n",
        "# Check that the plot runs\n",
        "gdf.hvplot(geo=True, crs=ccrs.Mercator())"
      ],
      "id": "be49200f"
    },
    {
      "cell_type": "markdown",
      "metadata": {},
      "source": [
        "## Download occurrence data\n",
        "\n",
        "For this challenge, you will use a database called the [Global\n",
        "Biodiversity Information Facility (GBIF)](https://www.gbif.org/). GBIF\n",
        "is compiled from species observation data all over the world, and\n",
        "includes everything from museum specimens to photos taken by citizen\n",
        "scientists in their backyards.\n",
        "\n",
        "Before your get started, go to <https://www.gbif.org/> to explore the\n",
        "data!\n",
        "\n",
        "### Register and log in to GBIF\n",
        "\n",
        "You will need a GBIF account to complete this challenge. You can use\n",
        "your GitHub account to authenticate with GBIF. Then, run the following\n",
        "code to save your credentials on your computer.\n",
        "\n",
        "> **Tip**\n",
        ">\n",
        "> If you accidentally enter your credentials wrong, you can set\n",
        "> `reset_credentials=True` instead of `reset_credentials=False`"
      ],
      "id": "4da09485-1dd3-4122-bffa-48779419c578"
    },
    {
      "cell_type": "code",
      "execution_count": 12,
      "metadata": {},
      "outputs": [],
      "source": [
        "reset_credentials = False\n",
        "# GBIF needs a username, password, and email\n",
        "credentials = dict(\n",
        "    GBIF_USER=(input, 'GBIF username:'),\n",
        "    GBIF_PWD=(getpass, 'GBIF password'),\n",
        "    GBIF_EMAIL=(input, 'GBIF email'),\n",
        ")\n",
        "for env_variable, (prompt_func, prompt_text) in credentials.items():\n",
        "    # Delete credential from environment if requested\n",
        "    if reset_credentials and (env_variable in os.environ):\n",
        "        os.environ.pop(env_variable)\n",
        "    # Ask for credential and save to environment\n",
        "    if not env_variable in os.environ:\n",
        "        os.environ[env_variable] = prompt_func(prompt_text)"
      ],
      "id": "8937ec7b"
    },
    {
      "cell_type": "markdown",
      "metadata": {},
      "source": [
        "### Get the species key\n",
        "\n",
        "> **<i class=\"fa fa-solid fa-keyboard fa-large\" aria-label=\"keyboard\"></i>\n",
        "> Your task**\n",
        ">\n",
        "> 1.  Replace the `...` with the name of the species you want to look up\n",
        "> 2.  Run the code to get the species key"
      ],
      "id": "f1b9bcc9-8d20-4c68-8db1-37356406f38c"
    },
    {
      "cell_type": "code",
      "execution_count": 13,
      "metadata": {},
      "outputs": [],
      "source": [
        "# Query species\n",
        "species_info = species.name_lookup('...', rank='SPECIES')\n",
        "\n",
        "# Get the first result\n",
        "first_result = species_info['results'][0]\n",
        "\n",
        "# Get the species key (nubKey)\n",
        "species_key = first_result['nubKey']\n",
        "\n",
        "# Check the result\n",
        "first_result['species'], species_key"
      ],
      "id": "2d816ce4"
    },
    {
      "cell_type": "markdown",
      "metadata": {},
      "source": [
        "### Download data from GBIF\n",
        "\n",
        "> **<i class=\"fa fa-solid fa-keyboard fa-large\" aria-label=\"keyboard\"></i>\n",
        "> Your task**\n",
        ">\n",
        "> Add parameters to the GBIF download function, `occ.download()` to\n",
        "> limit your query to:\n",
        ">\n",
        "> -   Sturnella Neglecta observations\n",
        "> -   in north america (`NORTH_AMERICA`)\n",
        "> -   from 2023\n",
        "> -   with spatial coordinates.\n",
        ">\n",
        "> Then, run the download. **This can take a few minutes**."
      ],
      "id": "90de9f48-3c25-4329-ace6-c17414384752"
    },
    {
      "cell_type": "code",
      "execution_count": 15,
      "metadata": {},
      "outputs": [],
      "source": [
        "# Submit query to GBIF\n",
        "gbif_query = occ.download([\n",
        "    \"continent = \",\n",
        "    \"speciesKey = \",\n",
        "    \"year = \",\n",
        "    \"hasCoordinate = \",\n",
        "])\n",
        "if not 'GBIF_DOWNLOAD_KEY' in os.environ:\n",
        "    os.environ['GBIF_DOWNLOAD_KEY'] = gbif_query[0]\n",
        "\n",
        "    # Wait for the download to build\n",
        "    wait = occ.download_meta(download_key)['status']\n",
        "    while not wait=='SUCCEEDED':\n",
        "        wait = occ.download_meta(download_key)['status']\n",
        "        time.sleep(5)\n",
        "\n",
        "# Download GBIF data\n",
        "download_info = occ.download_get(\n",
        "    os.environ['GBIF_DOWNLOAD_KEY'], \n",
        "    path=data_dir)\n",
        "\n",
        "# Unzip GBIF data\n",
        "with zipfile.ZipFile(download_info['path']) as download_zip:\n",
        "    download_zip.extractall(path=gbif_dir)\n",
        "# Find the extracted .csv file path\n",
        "gbif_path = glob(os.path.join(gbif_dir, '*.csv'))[0]"
      ],
      "id": "793737e9"
    },
    {
      "cell_type": "markdown",
      "metadata": {},
      "source": [
        "### Load the GBIF data into Python\n",
        "\n",
        "> **<i class=\"fa fa-solid fa-keyboard fa-large\" aria-label=\"keyboard\"></i>\n",
        "> Your task**\n",
        ">\n",
        "> 1.  Look at the beginning of the file you downloaded. What do you\n",
        ">     think the **delimiter** is?\n",
        "> 2.  Run the next code cell. What happens?\n",
        "> 3.  Uncomment and modify the parameters below until your data loads\n",
        ">     successfully and you have only the columns you want.\n",
        "\n",
        "You can use the following code to look at the beginning of your file:"
      ],
      "id": "2ba07d15-97f1-4ef9-ad9f-a617e3686e87"
    },
    {
      "cell_type": "code",
      "execution_count": 17,
      "metadata": {},
      "outputs": [],
      "source": [
        "!head $gbif_path"
      ],
      "id": "09556d50"
    },
    {
      "cell_type": "code",
      "execution_count": 18,
      "metadata": {},
      "outputs": [],
      "source": [
        "# Load the GBIF data\n",
        "gbif_df = pd.read_csv(\n",
        "    gbif_path, \n",
        "    #delimiter='',\n",
        "    #index_col='',\n",
        "    #usecols=[]\n",
        ")\n",
        "gbif_df.head()"
      ],
      "id": "582ba8c6"
    },
    {
      "cell_type": "markdown",
      "metadata": {},
      "source": [
        "### Convert the GBIF data to a GeoDataFrame\n",
        "\n",
        "To plot the GBIF data, we need to convert it to a `GeoDataFrame` first.\n",
        "\n",
        "> **<i class=\"fa fa-solid fa-keyboard fa-large\" aria-label=\"keyboard\"></i>\n",
        "> Your task**\n",
        ">\n",
        "> 1.  Replace `your_dataframe` with the name of the `DataFrame` you just\n",
        ">     got from GBIF\n",
        "> 2.  Replace `longitude_column_name` and `latitude_column_name` with\n",
        ">     column names from your \\`DataFrame\n",
        "> 3.  Run the code to get a `GeoDataFrame` of the GBIF data."
      ],
      "id": "fb889905-49d4-4229-96d5-5b10f1d15ab6"
    },
    {
      "cell_type": "code",
      "execution_count": 20,
      "metadata": {},
      "outputs": [],
      "source": [
        "gbif_gdf = (\n",
        "    gpd.GeoDataFrame(\n",
        "        your_dataframe, \n",
        "        geometry=gpd.points_from_xy(\n",
        "            your_dataframe.longitude_column_name, \n",
        "            your_dataframe.latitude_column_name), \n",
        "        crs=\"EPSG:4326\")\n",
        "    # Select the desired columns\n",
        "    [[]]\n",
        ")\n",
        "gbif_gdf"
      ],
      "id": "b5c9a6e3"
    },
    {
      "cell_type": "markdown",
      "metadata": {},
      "source": [
        "### Identify the ecoregion for each observation\n",
        "\n",
        "You can combine the ecoregions and the observations **spatially** using\n",
        "a method called `.sjoin()`, which stands for spatial join.\n",
        "\n",
        "> **<i class=\"fa fa-solid fa-glasses fa-large\" aria-label=\"glasses\"></i>\n",
        "> Further reading**\n",
        ">\n",
        "> Check out the [`geopandas` documentation on spatial\n",
        "> joins](https://geopandas.org/en/stable/docs/user_guide/mergingdata.html#spatial-joins)\n",
        "> to help you figure this one out. You can also ask your favorite LLM\n",
        "> (Large-Language Model, like ChatGPT)\n",
        "\n",
        "> **<i class=\"fa fa-solid fa-keyboard fa-large\" aria-label=\"keyboard\"></i>\n",
        "> Your task**\n",
        ">\n",
        "> 1.  Identify the correct values for the `how=` and `predicate=`\n",
        ">     parameters of the spatial join.\n",
        "> 2.  Select only the columns you will need for your plot.\n",
        "> 3.  Run the code."
      ],
      "id": "f52309cf-2fca-46a8-8e83-a9fc3a068cde"
    },
    {
      "cell_type": "code",
      "execution_count": 22,
      "metadata": {},
      "outputs": [],
      "source": [
        "gbif_ecoregion_gdf = (\n",
        "    ecoregions_gdf\n",
        "    # Match the CRS of the GBIF data and the ecoregions\n",
        "    .to_crs(gbif_gdf.crs)\n",
        "    # Find ecoregion for each observation\n",
        "    .sjoin(\n",
        "        gbif_gdf,\n",
        "        how='', \n",
        "        predicate='')\n",
        "    # Select the required columns\n",
        "    \n",
        ")\n",
        "gbif_ecoregion_gdf"
      ],
      "id": "11f9b1c4"
    },
    {
      "cell_type": "markdown",
      "metadata": {},
      "source": [
        "### Count the observations in each ecoregion each month\n",
        "\n",
        "> **<i class=\"fa fa-solid fa-keyboard fa-large\" aria-label=\"keyboard\"></i>\n",
        "> Your task**\n",
        ">\n",
        "> 1.  Replace `columns_to_group_by` with a list of columns. Keep in mind\n",
        ">     that you will end up with one row for each group – you want to\n",
        ">     count the observations in each ecoregion by month.\n",
        "> 2.  Select only month/ecosystem combinations that have more than one\n",
        ">     occurrence recorded, since a single occurrence could be an error.\n",
        "> 3.  Use the `.groupby()` and `.mean()` methods to compute the mean\n",
        ">     occurrences by ecoregion and by month.\n",
        "> 4.  Run the code – it will normalize the number of occurrences by\n",
        ">     month and ecoretion."
      ],
      "id": "6bdc442b-7a10-4e59-9726-1828c75b1f3a"
    },
    {
      "cell_type": "code",
      "execution_count": 24,
      "metadata": {},
      "outputs": [],
      "source": [
        "occurrence_df = (\n",
        "    gbif_ecoregion_gdf\n",
        "    # For each ecoregion, for each month...\n",
        "    .groupby(columns_to_group_by)\n",
        "    # ...count the number of occurrences\n",
        "    .agg(occurrences=('name', 'count'))\n",
        ")\n",
        "\n",
        "# Get rid of rare observations (possible misidentification?)\n",
        "occurrence_df = \n",
        "\n",
        "# Take the mean by ecoregion\n",
        "mean_occurrences_by_ecoregion = (\n",
        "    occurrence_df\n",
        "    ...\n",
        ")\n",
        "# Take the mean by month\n",
        "mean_occurrences_by_month = (\n",
        "    occurrence_df\n",
        "    ...\n",
        ")\n",
        "\n",
        "# Normalize the observations by the monthly mean throughout the year\n",
        "occurrence_df['norm_occurrences'] = (\n",
        "    occurrence_df.occurrences \n",
        "    / mean_occurrences_by_ecoregion\n",
        "    / mean_occurrences_by_month\n",
        ")\n",
        "occurrence_df"
      ],
      "id": "d8c6ba57"
    },
    {
      "cell_type": "markdown",
      "metadata": {},
      "source": [
        "## Plot the Tasiyagnunpa observations by month\n",
        "\n",
        "Use the following code to plot your data. You may need to modify it to\n",
        "get it to work!"
      ],
      "id": "5161d13d-4115-4f43-9b0c-0732b76bd2b2"
    },
    {
      "cell_type": "code",
      "execution_count": 27,
      "metadata": {},
      "outputs": [],
      "source": [
        "# Get the plot bounds so they don't change with the slider\n",
        "xmin, ymin, xmax, ymax = occurrence_gdf.total_bounds\n",
        "\n",
        "# Plot occurrence by ecoregion and month\n",
        "migration_plot = occurrence_gdf.hvplot(\n",
        "    c='norm_occurrences',\n",
        "    # Use background tiles\n",
        "    geo=True, crs=ccrs.Mercator(), tiles='CartoDark',\n",
        "    title=\"Tasiyagnunpa migration\",\n",
        "    # Add a month menu\n",
        "    groupby='Month',\n",
        "    xlim=(xmin, xmax), ylim=(ymin, ymax),\n",
        "    frame_height=600,\n",
        "    colorbar=False,\n",
        "    widgets={'Month': pn.widgets.DiscreteSlider},\n",
        "    widget_location='bottom'\n",
        ")\n",
        "\n",
        "# Show the plot\n",
        "migration_plot"
      ],
      "id": "da7f1692"
    },
    {
      "cell_type": "code",
      "execution_count": 28,
      "metadata": {},
      "outputs": [],
      "source": [
        "# Save the plot\n",
        "migration_plot.save('migration.html', embed=True)"
      ],
      "id": "75bca361"
    }
  ],
  "nbformat": 4,
  "nbformat_minor": 5,
  "metadata": {
    "kernelspec": {
      "name": "python3",
      "display_name": "Python 3 (ipykernel)",
      "language": "python"
    },
    "language_info": {
      "name": "python",
      "codemirror_mode": {
        "name": "ipython",
        "version": "3"
      },
      "file_extension": ".py",
      "mimetype": "text/x-python",
      "nbconvert_exporter": "python",
      "pygments_lexer": "ipython3",
      "version": "3.10.14"
    }
  }
}